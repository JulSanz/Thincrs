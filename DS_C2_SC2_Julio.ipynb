{
  "nbformat": 4,
  "nbformat_minor": 0,
  "metadata": {
    "colab": {
      "provenance": []
    },
    "kernelspec": {
      "name": "python3",
      "display_name": "Python 3"
    },
    "language_info": {
      "name": "python"
    }
  },
  "cells": [
    {
      "cell_type": "markdown",
      "source": [
        "a. Extraer la información del archivo."
      ],
      "metadata": {
        "id": "Hzs1SsQizCIN"
      }
    },
    {
      "cell_type": "code",
      "execution_count": 15,
      "metadata": {
        "id": "xu8DaNeiyF7_"
      },
      "outputs": [],
      "source": [
        "import pandas as pd\n",
        "\n",
        "# Carga el archivo CSV en un DataFrame\n",
        "df = pd.read_csv('/content/sample_data/country_vaccinations.csv')"
      ]
    },
    {
      "cell_type": "markdown",
      "source": [
        "b. Mostrar la estructura y tipos de datos de cada columna:\n",
        "\n"
      ],
      "metadata": {
        "id": "J68LHYu00ilC"
      }
    },
    {
      "cell_type": "code",
      "source": [
        "# Muestra la estructura y tipos de datos del DataFrame\n",
        "print(df.info())\n",
        "\n",
        "# Convierte las columnas de fechas a datetime64\n",
        "df['date'] = pd.to_datetime(df['date'])"
      ],
      "metadata": {
        "colab": {
          "base_uri": "https://localhost:8080/"
        },
        "id": "MPwY8V2F0kDY",
        "outputId": "2e43df8b-916e-46c3-d47a-a57c42747fdd"
      },
      "execution_count": 19,
      "outputs": [
        {
          "output_type": "stream",
          "name": "stdout",
          "text": [
            "<class 'pandas.core.frame.DataFrame'>\n",
            "RangeIndex: 86512 entries, 0 to 86511\n",
            "Data columns (total 15 columns):\n",
            " #   Column                               Non-Null Count  Dtype         \n",
            "---  ------                               --------------  -----         \n",
            " 0   country                              86512 non-null  object        \n",
            " 1   iso_code                             86512 non-null  object        \n",
            " 2   date                                 86512 non-null  datetime64[ns]\n",
            " 3   total_vaccinations                   43607 non-null  float64       \n",
            " 4   people_vaccinated                    41294 non-null  float64       \n",
            " 5   people_fully_vaccinated              38802 non-null  float64       \n",
            " 6   daily_vaccinations_raw               35362 non-null  float64       \n",
            " 7   daily_vaccinations                   86213 non-null  float64       \n",
            " 8   total_vaccinations_per_hundred       43607 non-null  float64       \n",
            " 9   people_vaccinated_per_hundred        41294 non-null  float64       \n",
            " 10  people_fully_vaccinated_per_hundred  38802 non-null  float64       \n",
            " 11  daily_vaccinations_per_million       86213 non-null  float64       \n",
            " 12  vaccines                             86512 non-null  object        \n",
            " 13  source_name                          86512 non-null  object        \n",
            " 14  source_website                       86512 non-null  object        \n",
            "dtypes: datetime64[ns](1), float64(9), object(5)\n",
            "memory usage: 9.9+ MB\n",
            "None\n"
          ]
        }
      ]
    },
    {
      "cell_type": "markdown",
      "source": [
        "c. Determinar la cantidad de vacunas aplicadas de cada compañía:\n",
        "\n"
      ],
      "metadata": {
        "id": "pCiTAsXo2BRy"
      }
    },
    {
      "cell_type": "code",
      "source": [
        "# Agrupa por vacunas y suma las vacunas aplicadas\n",
        "vacunas_por_compania = df.groupby('vaccines')['total_vaccinations'].sum()\n",
        "\n",
        "#Imprime las vacunas\n",
        "print(vacunas_por_compania)"
      ],
      "metadata": {
        "colab": {
          "base_uri": "https://localhost:8080/"
        },
        "id": "V0S9TlWv2C0C",
        "outputId": "16d3b012-dda7-46c3-bf57-e40322638a21"
      },
      "execution_count": 22,
      "outputs": [
        {
          "output_type": "stream",
          "name": "stdout",
          "text": [
            "vaccines\n",
            "Abdala, Johnson&Johnson, Oxford/AstraZeneca, Pfizer/BioNTech, Soberana02, Sputnik Light, Sputnik V                            1.784348e+08\n",
            "Abdala, Moderna, Oxford/AstraZeneca, Pfizer/BioNTech, Sinopharm/Beijing, Sputnik V                                            1.791450e+10\n",
            "Abdala, Sinopharm/Beijing, Sinovac, Soberana02, Sputnik Light, Sputnik V                                                      4.228568e+08\n",
            "Abdala, Soberana Plus, Soberana02                                                                                             6.405166e+09\n",
            "COVIran Barekat, Covaxin, FAKHRAVAC, Oxford/AstraZeneca, Razi Cov Pars, Sinopharm/Beijing, Soberana02, SpikoGen, Sputnik V    1.069480e+10\n",
            "                                                                                                                                  ...     \n",
            "Pfizer/BioNTech, Sinovac, Turkovac                                                                                            3.392310e+10\n",
            "Pfizer/BioNTech, Sputnik V                                                                                                    3.863380e+06\n",
            "QazVac, Sinopharm/Beijing, Sputnik V                                                                                          3.585429e+09\n",
            "Sinopharm/Beijing                                                                                                             3.080671e+07\n",
            "Sinopharm/Beijing, Sputnik V                                                                                                  6.451243e+08\n",
            "Name: total_vaccinations, Length: 84, dtype: float64\n"
          ]
        }
      ]
    },
    {
      "cell_type": "markdown",
      "source": [
        "d. Obtener la cantidad de vacunas aplicadas en todo el mundo:\n",
        "\n"
      ],
      "metadata": {
        "id": "c5DWXI7V3LJc"
      }
    },
    {
      "cell_type": "code",
      "source": [
        "# Suma total de vacunas aplicadas en todo el mundo\n",
        "total_vacunas = df['total_vaccinations'].sum()\n",
        "\n",
        "#Imprimir todas las vacunas\n",
        "print('El total de vacunas son', total_vacunas)\n"
      ],
      "metadata": {
        "colab": {
          "base_uri": "https://localhost:8080/"
        },
        "id": "5uKaXRvq3cKT",
        "outputId": "c8e50cb1-d064-4595-8885-d5ad60b825e6"
      },
      "execution_count": 30,
      "outputs": [
        {
          "output_type": "stream",
          "name": "stdout",
          "text": [
            "El total de vacunas son 2002854013761.0\n"
          ]
        }
      ]
    },
    {
      "cell_type": "markdown",
      "source": [
        "e. Calcular el promedio de vacunas aplicadas por país:\n",
        "\n"
      ],
      "metadata": {
        "id": "-Jc6ZmWC38Cg"
      }
    },
    {
      "cell_type": "code",
      "source": [
        "# Calcula el promedio de vacunas aplicadas por país\n",
        "promedio_por_pais = df.groupby('country')['total_vaccinations'].mean()\n",
        "\n",
        "#IMprimir promedio\n",
        "print(promedio_por_pais)"
      ],
      "metadata": {
        "colab": {
          "base_uri": "https://localhost:8080/"
        },
        "id": "hTFlpPr_3_Df",
        "outputId": "3121e017-8009-425c-d169-54343200fad6"
      },
      "execution_count": 33,
      "outputs": [
        {
          "output_type": "stream",
          "name": "stdout",
          "text": [
            "country\n",
            "Afghanistan          2.566118e+06\n",
            "Albania              1.191695e+06\n",
            "Algeria              9.956086e+06\n",
            "Andorra              5.827721e+04\n",
            "Angola               6.074066e+06\n",
            "                         ...     \n",
            "Wales                4.132861e+06\n",
            "Wallis and Futuna    9.142925e+03\n",
            "Yemen                4.794049e+05\n",
            "Zambia               1.048484e+06\n",
            "Zimbabwe             4.181618e+06\n",
            "Name: total_vaccinations, Length: 223, dtype: float64\n"
          ]
        }
      ]
    },
    {
      "cell_type": "markdown",
      "source": [
        "f. Determinar la cantidad de vacunas aplicadas el día 29/01/21 en todo el mundo."
      ],
      "metadata": {
        "id": "BiuoiVX0RenY"
      }
    },
    {
      "cell_type": "code",
      "source": [
        "# Filtra por la fecha deseada\n",
        "vacunas_29_01_21 = df[df['date'] == '2021-01-29']['total_vaccinations'].sum()\n",
        "\n",
        "#Imprimir vacunas en fecha\n",
        "print('La cantidad de vacunas aplicadas el 29 de Enero de 2021 fue de', vacunas_29_01_21)"
      ],
      "metadata": {
        "colab": {
          "base_uri": "https://localhost:8080/"
        },
        "id": "1Qb2ioBJRfk0",
        "outputId": "24cef0db-8255-474b-8e6c-aebdfd881042"
      },
      "execution_count": 35,
      "outputs": [
        {
          "output_type": "stream",
          "name": "stdout",
          "text": [
            "La cantidad de vacunas aplicadas el 29 de Enero de 2021 fue de 82952931.0\n"
          ]
        }
      ]
    },
    {
      "cell_type": "markdown",
      "source": [
        "g. Crear un dataframe nuevo denominado conDiferencias que contenga los datos originales y una columna derivada (diferencias) con las diferencias de aplicación entre las columnas daily_vaccionations y daily_vaccionations_raw.  "
      ],
      "metadata": {
        "id": "oKbq7jwFSkZ_"
      }
    },
    {
      "cell_type": "code",
      "source": [
        "# Crea una nueva columna\n",
        "df['diferencias'] = df['daily_vaccinations'] - df['daily_vaccinations_raw']\n",
        "conDiferencias = df.copy()\n",
        "\n",
        "#Imprimir nuevo dataframe\n",
        "print(conDiferencias)"
      ],
      "metadata": {
        "colab": {
          "base_uri": "https://localhost:8080/"
        },
        "id": "mRPm-xtTSmfS",
        "outputId": "f72a3f5f-97f1-4322-d658-70ae45e78999"
      },
      "execution_count": 37,
      "outputs": [
        {
          "output_type": "stream",
          "name": "stdout",
          "text": [
            "           country iso_code       date  total_vaccinations  people_vaccinated  \\\n",
            "0      Afghanistan      AFG 2021-02-22                 0.0                0.0   \n",
            "1      Afghanistan      AFG 2021-02-23                 NaN                NaN   \n",
            "2      Afghanistan      AFG 2021-02-24                 NaN                NaN   \n",
            "3      Afghanistan      AFG 2021-02-25                 NaN                NaN   \n",
            "4      Afghanistan      AFG 2021-02-26                 NaN                NaN   \n",
            "...            ...      ...        ...                 ...                ...   \n",
            "86507     Zimbabwe      ZWE 2022-03-25           8691642.0          4814582.0   \n",
            "86508     Zimbabwe      ZWE 2022-03-26           8791728.0          4886242.0   \n",
            "86509     Zimbabwe      ZWE 2022-03-27           8845039.0          4918147.0   \n",
            "86510     Zimbabwe      ZWE 2022-03-28           8934360.0          4975433.0   \n",
            "86511     Zimbabwe      ZWE 2022-03-29           9039729.0          5053114.0   \n",
            "\n",
            "       people_fully_vaccinated  daily_vaccinations_raw  daily_vaccinations  \\\n",
            "0                          NaN                     NaN                 NaN   \n",
            "1                          NaN                     NaN              1367.0   \n",
            "2                          NaN                     NaN              1367.0   \n",
            "3                          NaN                     NaN              1367.0   \n",
            "4                          NaN                     NaN              1367.0   \n",
            "...                        ...                     ...                 ...   \n",
            "86507                3473523.0                139213.0             69579.0   \n",
            "86508                3487962.0                100086.0             83429.0   \n",
            "86509                3493763.0                 53311.0             90629.0   \n",
            "86510                3501493.0                 89321.0            100614.0   \n",
            "86511                3510256.0                105369.0            103751.0   \n",
            "\n",
            "       total_vaccinations_per_hundred  people_vaccinated_per_hundred  \\\n",
            "0                                0.00                           0.00   \n",
            "1                                 NaN                            NaN   \n",
            "2                                 NaN                            NaN   \n",
            "3                                 NaN                            NaN   \n",
            "4                                 NaN                            NaN   \n",
            "...                               ...                            ...   \n",
            "86507                           57.59                          31.90   \n",
            "86508                           58.25                          32.38   \n",
            "86509                           58.61                          32.59   \n",
            "86510                           59.20                          32.97   \n",
            "86511                           59.90                          33.48   \n",
            "\n",
            "       people_fully_vaccinated_per_hundred  daily_vaccinations_per_million  \\\n",
            "0                                      NaN                             NaN   \n",
            "1                                      NaN                            34.0   \n",
            "2                                      NaN                            34.0   \n",
            "3                                      NaN                            34.0   \n",
            "4                                      NaN                            34.0   \n",
            "...                                    ...                             ...   \n",
            "86507                                23.02                          4610.0   \n",
            "86508                                23.11                          5528.0   \n",
            "86509                                23.15                          6005.0   \n",
            "86510                                23.20                          6667.0   \n",
            "86511                                23.26                          6874.0   \n",
            "\n",
            "                                                vaccines  \\\n",
            "0      Johnson&Johnson, Oxford/AstraZeneca, Pfizer/Bi...   \n",
            "1      Johnson&Johnson, Oxford/AstraZeneca, Pfizer/Bi...   \n",
            "2      Johnson&Johnson, Oxford/AstraZeneca, Pfizer/Bi...   \n",
            "3      Johnson&Johnson, Oxford/AstraZeneca, Pfizer/Bi...   \n",
            "4      Johnson&Johnson, Oxford/AstraZeneca, Pfizer/Bi...   \n",
            "...                                                  ...   \n",
            "86507  Oxford/AstraZeneca, Sinopharm/Beijing, Sinovac...   \n",
            "86508  Oxford/AstraZeneca, Sinopharm/Beijing, Sinovac...   \n",
            "86509  Oxford/AstraZeneca, Sinopharm/Beijing, Sinovac...   \n",
            "86510  Oxford/AstraZeneca, Sinopharm/Beijing, Sinovac...   \n",
            "86511  Oxford/AstraZeneca, Sinopharm/Beijing, Sinovac...   \n",
            "\n",
            "                     source_name  \\\n",
            "0      World Health Organization   \n",
            "1      World Health Organization   \n",
            "2      World Health Organization   \n",
            "3      World Health Organization   \n",
            "4      World Health Organization   \n",
            "...                          ...   \n",
            "86507         Ministry of Health   \n",
            "86508         Ministry of Health   \n",
            "86509         Ministry of Health   \n",
            "86510         Ministry of Health   \n",
            "86511         Ministry of Health   \n",
            "\n",
            "                                          source_website  diferencias  \n",
            "0                               https://covid19.who.int/          NaN  \n",
            "1                               https://covid19.who.int/          NaN  \n",
            "2                               https://covid19.who.int/          NaN  \n",
            "3                               https://covid19.who.int/          NaN  \n",
            "4                               https://covid19.who.int/          NaN  \n",
            "...                                                  ...          ...  \n",
            "86507  https://www.arcgis.com/home/webmap/viewer.html...     -69634.0  \n",
            "86508  https://www.arcgis.com/home/webmap/viewer.html...     -16657.0  \n",
            "86509  https://www.arcgis.com/home/webmap/viewer.html...      37318.0  \n",
            "86510  https://www.arcgis.com/home/webmap/viewer.html...      11293.0  \n",
            "86511  https://www.arcgis.com/home/webmap/viewer.html...      -1618.0  \n",
            "\n",
            "[86512 rows x 16 columns]\n"
          ]
        }
      ]
    },
    {
      "cell_type": "markdown",
      "source": [
        "h. Obtener el periodo de tiempo entre el registro con fecha más reciente y el registro con fecha más antigua."
      ],
      "metadata": {
        "id": "Xyf91OkGW2dL"
      }
    },
    {
      "cell_type": "code",
      "source": [
        "# Encuentra la fecha más reciente y la más antigua\n",
        "fecha_mas_reciente = df['date'].max()\n",
        "fecha_mas_antigua = df['date'].min()\n",
        "periodo_de_tiempo = fecha_mas_reciente - fecha_mas_antigua\n",
        "\n",
        "#Imprimir periodo\n",
        "print('El periodo de registro es de' , periodo_de_tiempo)"
      ],
      "metadata": {
        "colab": {
          "base_uri": "https://localhost:8080/"
        },
        "id": "Le2fRCiaW5Bz",
        "outputId": "0cf0d249-a7c6-42ad-df70-bbd57dc1133e"
      },
      "execution_count": 38,
      "outputs": [
        {
          "output_type": "stream",
          "name": "stdout",
          "text": [
            "El periodo de registro es de 482 days 00:00:00\n"
          ]
        }
      ]
    },
    {
      "cell_type": "markdown",
      "source": [
        "i. Crear un dataframe nuevo denominado conCantidad que contenga los datos originales y una columna derivada (canVac) con la cantidad de vacunas utilizadas cada día (usar la columna vaccines y separar por el carácter , ).\n",
        "\n"
      ],
      "metadata": {
        "id": "ohz7kk5JXI66"
      }
    },
    {
      "cell_type": "code",
      "source": [
        "# Crea una nueva columna con la cantidad de vacunas utilizadas cada día\n",
        "df['canVac'] = df['vaccines'].str.split(',').apply(len)\n",
        "conCantidad = df.copy()\n",
        "\n",
        "#Imprimir nuevo dataframe\n",
        "print(conCantidad)"
      ],
      "metadata": {
        "colab": {
          "base_uri": "https://localhost:8080/"
        },
        "id": "QPj2Vyo5XNT5",
        "outputId": "b8b4bc01-437b-401d-dbe2-4969d3086c1a"
      },
      "execution_count": 40,
      "outputs": [
        {
          "output_type": "stream",
          "name": "stdout",
          "text": [
            "           country iso_code       date  total_vaccinations  people_vaccinated  \\\n",
            "0      Afghanistan      AFG 2021-02-22                 0.0                0.0   \n",
            "1      Afghanistan      AFG 2021-02-23                 NaN                NaN   \n",
            "2      Afghanistan      AFG 2021-02-24                 NaN                NaN   \n",
            "3      Afghanistan      AFG 2021-02-25                 NaN                NaN   \n",
            "4      Afghanistan      AFG 2021-02-26                 NaN                NaN   \n",
            "...            ...      ...        ...                 ...                ...   \n",
            "86507     Zimbabwe      ZWE 2022-03-25           8691642.0          4814582.0   \n",
            "86508     Zimbabwe      ZWE 2022-03-26           8791728.0          4886242.0   \n",
            "86509     Zimbabwe      ZWE 2022-03-27           8845039.0          4918147.0   \n",
            "86510     Zimbabwe      ZWE 2022-03-28           8934360.0          4975433.0   \n",
            "86511     Zimbabwe      ZWE 2022-03-29           9039729.0          5053114.0   \n",
            "\n",
            "       people_fully_vaccinated  daily_vaccinations_raw  daily_vaccinations  \\\n",
            "0                          NaN                     NaN                 NaN   \n",
            "1                          NaN                     NaN              1367.0   \n",
            "2                          NaN                     NaN              1367.0   \n",
            "3                          NaN                     NaN              1367.0   \n",
            "4                          NaN                     NaN              1367.0   \n",
            "...                        ...                     ...                 ...   \n",
            "86507                3473523.0                139213.0             69579.0   \n",
            "86508                3487962.0                100086.0             83429.0   \n",
            "86509                3493763.0                 53311.0             90629.0   \n",
            "86510                3501493.0                 89321.0            100614.0   \n",
            "86511                3510256.0                105369.0            103751.0   \n",
            "\n",
            "       total_vaccinations_per_hundred  people_vaccinated_per_hundred  \\\n",
            "0                                0.00                           0.00   \n",
            "1                                 NaN                            NaN   \n",
            "2                                 NaN                            NaN   \n",
            "3                                 NaN                            NaN   \n",
            "4                                 NaN                            NaN   \n",
            "...                               ...                            ...   \n",
            "86507                           57.59                          31.90   \n",
            "86508                           58.25                          32.38   \n",
            "86509                           58.61                          32.59   \n",
            "86510                           59.20                          32.97   \n",
            "86511                           59.90                          33.48   \n",
            "\n",
            "       people_fully_vaccinated_per_hundred  daily_vaccinations_per_million  \\\n",
            "0                                      NaN                             NaN   \n",
            "1                                      NaN                            34.0   \n",
            "2                                      NaN                            34.0   \n",
            "3                                      NaN                            34.0   \n",
            "4                                      NaN                            34.0   \n",
            "...                                    ...                             ...   \n",
            "86507                                23.02                          4610.0   \n",
            "86508                                23.11                          5528.0   \n",
            "86509                                23.15                          6005.0   \n",
            "86510                                23.20                          6667.0   \n",
            "86511                                23.26                          6874.0   \n",
            "\n",
            "                                                vaccines  \\\n",
            "0      Johnson&Johnson, Oxford/AstraZeneca, Pfizer/Bi...   \n",
            "1      Johnson&Johnson, Oxford/AstraZeneca, Pfizer/Bi...   \n",
            "2      Johnson&Johnson, Oxford/AstraZeneca, Pfizer/Bi...   \n",
            "3      Johnson&Johnson, Oxford/AstraZeneca, Pfizer/Bi...   \n",
            "4      Johnson&Johnson, Oxford/AstraZeneca, Pfizer/Bi...   \n",
            "...                                                  ...   \n",
            "86507  Oxford/AstraZeneca, Sinopharm/Beijing, Sinovac...   \n",
            "86508  Oxford/AstraZeneca, Sinopharm/Beijing, Sinovac...   \n",
            "86509  Oxford/AstraZeneca, Sinopharm/Beijing, Sinovac...   \n",
            "86510  Oxford/AstraZeneca, Sinopharm/Beijing, Sinovac...   \n",
            "86511  Oxford/AstraZeneca, Sinopharm/Beijing, Sinovac...   \n",
            "\n",
            "                     source_name  \\\n",
            "0      World Health Organization   \n",
            "1      World Health Organization   \n",
            "2      World Health Organization   \n",
            "3      World Health Organization   \n",
            "4      World Health Organization   \n",
            "...                          ...   \n",
            "86507         Ministry of Health   \n",
            "86508         Ministry of Health   \n",
            "86509         Ministry of Health   \n",
            "86510         Ministry of Health   \n",
            "86511         Ministry of Health   \n",
            "\n",
            "                                          source_website  diferencias  canVac  \n",
            "0                               https://covid19.who.int/          NaN       4  \n",
            "1                               https://covid19.who.int/          NaN       4  \n",
            "2                               https://covid19.who.int/          NaN       4  \n",
            "3                               https://covid19.who.int/          NaN       4  \n",
            "4                               https://covid19.who.int/          NaN       4  \n",
            "...                                                  ...          ...     ...  \n",
            "86507  https://www.arcgis.com/home/webmap/viewer.html...     -69634.0       4  \n",
            "86508  https://www.arcgis.com/home/webmap/viewer.html...     -16657.0       4  \n",
            "86509  https://www.arcgis.com/home/webmap/viewer.html...      37318.0       4  \n",
            "86510  https://www.arcgis.com/home/webmap/viewer.html...      11293.0       4  \n",
            "86511  https://www.arcgis.com/home/webmap/viewer.html...      -1618.0       4  \n",
            "\n",
            "[86512 rows x 17 columns]\n"
          ]
        }
      ]
    },
    {
      "cell_type": "markdown",
      "source": [
        "j. Generar un dataframe denominado antes20 con todos los registros que se hayan realizado antes del 20 de diciembre de 2020:"
      ],
      "metadata": {
        "id": "q7ck0FFkXo20"
      }
    },
    {
      "cell_type": "code",
      "source": [
        "# Filtra los registros antes del 20 de diciembre de 2020\n",
        "antes20 = df[df['date'] < '2020-12-20']\n",
        "\n",
        "#Imprimir nuevo dataframe\n",
        "print(antes20)"
      ],
      "metadata": {
        "colab": {
          "base_uri": "https://localhost:8080/"
        },
        "id": "5sO3DBxKXxBj",
        "outputId": "602694d5-a53e-4cba-9b90-c4a6d458a593"
      },
      "execution_count": 41,
      "outputs": [
        {
          "output_type": "stream",
          "name": "stdout",
          "text": [
            "             country iso_code       date  total_vaccinations  \\\n",
            "13403         Canada      CAN 2020-12-14                 5.0   \n",
            "13404         Canada      CAN 2020-12-15               727.0   \n",
            "13405         Canada      CAN 2020-12-16              3025.0   \n",
            "13406         Canada      CAN 2020-12-17              7279.0   \n",
            "13407         Canada      CAN 2020-12-18             11296.0   \n",
            "...              ...      ...        ...                 ...   \n",
            "82362  United States      USA 2020-12-15             84638.0   \n",
            "82363  United States      USA 2020-12-16            244549.0   \n",
            "82364  United States      USA 2020-12-17            517161.0   \n",
            "82365  United States      USA 2020-12-18            933551.0   \n",
            "82366  United States      USA 2020-12-19           1115437.0   \n",
            "\n",
            "       people_vaccinated  people_fully_vaccinated  daily_vaccinations_raw  \\\n",
            "13403                5.0                      NaN                     NaN   \n",
            "13404              727.0                      NaN                   722.0   \n",
            "13405             3025.0                      NaN                  2298.0   \n",
            "13406             7279.0                      NaN                  4254.0   \n",
            "13407            11296.0                      NaN                  4017.0   \n",
            "...                  ...                      ...                     ...   \n",
            "82362            76984.0                   6281.0                 49771.0   \n",
            "82363           231496.0                   6757.0                159911.0   \n",
            "82364           496980.0                   7507.0                272612.0   \n",
            "82365           904656.0                   8718.0                416390.0   \n",
            "82366          1082608.0                   9778.0                181886.0   \n",
            "\n",
            "       daily_vaccinations  total_vaccinations_per_hundred  \\\n",
            "13403                 NaN                            0.00   \n",
            "13404               722.0                            0.00   \n",
            "13405              1510.0                            0.01   \n",
            "13406              2425.0                            0.02   \n",
            "13407              2823.0                            0.03   \n",
            "...                   ...                             ...   \n",
            "82362             27175.0                            0.03   \n",
            "82363             71420.0                            0.07   \n",
            "82364            121718.0                            0.16   \n",
            "82365            180653.0                            0.28   \n",
            "82366            180858.0                            0.34   \n",
            "\n",
            "       people_vaccinated_per_hundred  people_fully_vaccinated_per_hundred  \\\n",
            "13403                           0.00                                  NaN   \n",
            "13404                           0.00                                  NaN   \n",
            "13405                           0.01                                  NaN   \n",
            "13406                           0.02                                  NaN   \n",
            "13407                           0.03                                  NaN   \n",
            "...                              ...                                  ...   \n",
            "82362                           0.02                                  0.0   \n",
            "82363                           0.07                                  0.0   \n",
            "82364                           0.15                                  0.0   \n",
            "82365                           0.27                                  0.0   \n",
            "82366                           0.33                                  0.0   \n",
            "\n",
            "       daily_vaccinations_per_million  \\\n",
            "13403                             NaN   \n",
            "13404                            19.0   \n",
            "13405                            40.0   \n",
            "13406                            64.0   \n",
            "13407                            74.0   \n",
            "...                               ...   \n",
            "82362                            82.0   \n",
            "82363                           215.0   \n",
            "82364                           367.0   \n",
            "82365                           544.0   \n",
            "82366                           545.0   \n",
            "\n",
            "                                                vaccines  \\\n",
            "13403  Johnson&Johnson, Moderna, Oxford/AstraZeneca, ...   \n",
            "13404  Johnson&Johnson, Moderna, Oxford/AstraZeneca, ...   \n",
            "13405  Johnson&Johnson, Moderna, Oxford/AstraZeneca, ...   \n",
            "13406  Johnson&Johnson, Moderna, Oxford/AstraZeneca, ...   \n",
            "13407  Johnson&Johnson, Moderna, Oxford/AstraZeneca, ...   \n",
            "...                                                  ...   \n",
            "82362          Johnson&Johnson, Moderna, Pfizer/BioNTech   \n",
            "82363          Johnson&Johnson, Moderna, Pfizer/BioNTech   \n",
            "82364          Johnson&Johnson, Moderna, Pfizer/BioNTech   \n",
            "82365          Johnson&Johnson, Moderna, Pfizer/BioNTech   \n",
            "82366          Johnson&Johnson, Moderna, Pfizer/BioNTech   \n",
            "\n",
            "                                             source_name  \\\n",
            "13403  Official data from provinces via covid19tracke...   \n",
            "13404  Official data from provinces via covid19tracke...   \n",
            "13405  Official data from provinces via covid19tracke...   \n",
            "13406  Official data from provinces via covid19tracke...   \n",
            "13407  Official data from provinces via covid19tracke...   \n",
            "...                                                  ...   \n",
            "82362         Centers for Disease Control and Prevention   \n",
            "82363         Centers for Disease Control and Prevention   \n",
            "82364         Centers for Disease Control and Prevention   \n",
            "82365         Centers for Disease Control and Prevention   \n",
            "82366         Centers for Disease Control and Prevention   \n",
            "\n",
            "                                          source_website  diferencias  canVac  \n",
            "13403  https://covid19tracker.ca/vaccinationtracker.html          NaN       4  \n",
            "13404  https://covid19tracker.ca/vaccinationtracker.html          0.0       4  \n",
            "13405  https://covid19tracker.ca/vaccinationtracker.html       -788.0       4  \n",
            "13406  https://covid19tracker.ca/vaccinationtracker.html      -1829.0       4  \n",
            "13407  https://covid19tracker.ca/vaccinationtracker.html      -1194.0       4  \n",
            "...                                                  ...          ...     ...  \n",
            "82362  https://data.cdc.gov/Vaccinations/COVID-19-Vac...     -22596.0       3  \n",
            "82363  https://data.cdc.gov/Vaccinations/COVID-19-Vac...     -88491.0       3  \n",
            "82364  https://data.cdc.gov/Vaccinations/COVID-19-Vac...    -150894.0       3  \n",
            "82365  https://data.cdc.gov/Vaccinations/COVID-19-Vac...    -235737.0       3  \n",
            "82366  https://data.cdc.gov/Vaccinations/COVID-19-Vac...      -1028.0       3  \n",
            "\n",
            "[70 rows x 17 columns]\n"
          ]
        }
      ]
    },
    {
      "cell_type": "markdown",
      "source": [
        "k. Obtener un dataframe denominado pfizer con todos los registros donde se haya utilizado la vacuna Pfizer."
      ],
      "metadata": {
        "id": "o98pkFJqX71T"
      }
    },
    {
      "cell_type": "code",
      "source": [
        "# Filtra los registros con la vacuna Pfizer\n",
        "pfizer = df[df['vaccines'].str.contains('Pfizer', case=False, na=False)]\n",
        "\n",
        "#Imprimir Dataframe\n",
        "print(pfizer)"
      ],
      "metadata": {
        "colab": {
          "base_uri": "https://localhost:8080/"
        },
        "id": "8LrWBUKEYBEv",
        "outputId": "7286605a-65ae-45d1-8855-f65e5cb462ed"
      },
      "execution_count": 42,
      "outputs": [
        {
          "output_type": "stream",
          "name": "stdout",
          "text": [
            "           country  iso_code       date  total_vaccinations  \\\n",
            "0      Afghanistan       AFG 2021-02-22                 0.0   \n",
            "1      Afghanistan       AFG 2021-02-23                 NaN   \n",
            "2      Afghanistan       AFG 2021-02-24                 NaN   \n",
            "3      Afghanistan       AFG 2021-02-25                 NaN   \n",
            "4      Afghanistan       AFG 2021-02-26                 NaN   \n",
            "...            ...       ...        ...                 ...   \n",
            "85069        Wales  OWID_WLS 2022-03-24           6921195.0   \n",
            "85070        Wales  OWID_WLS 2022-03-25           6923298.0   \n",
            "85071        Wales  OWID_WLS 2022-03-26           6923706.0   \n",
            "85072        Wales  OWID_WLS 2022-03-27           6925183.0   \n",
            "85073        Wales  OWID_WLS 2022-03-28           6927437.0   \n",
            "\n",
            "       people_vaccinated  people_fully_vaccinated  daily_vaccinations_raw  \\\n",
            "0                    0.0                      NaN                     NaN   \n",
            "1                    NaN                      NaN                     NaN   \n",
            "2                    NaN                      NaN                     NaN   \n",
            "3                    NaN                      NaN                     NaN   \n",
            "4                    NaN                      NaN                     NaN   \n",
            "...                  ...                      ...                     ...   \n",
            "85069          2526832.0                2397677.0                  1756.0   \n",
            "85070          2527100.0                2398097.0                  2103.0   \n",
            "85071          2527184.0                2398322.0                   408.0   \n",
            "85072          2528051.0                2398676.0                  1477.0   \n",
            "85073          2528664.0                2399341.0                  2254.0   \n",
            "\n",
            "       daily_vaccinations  total_vaccinations_per_hundred  \\\n",
            "0                     NaN                            0.00   \n",
            "1                  1367.0                             NaN   \n",
            "2                  1367.0                             NaN   \n",
            "3                  1367.0                             NaN   \n",
            "4                  1367.0                             NaN   \n",
            "...                   ...                             ...   \n",
            "85069              1705.0                          218.33   \n",
            "85070              1667.0                          218.40   \n",
            "85071              1519.0                          218.41   \n",
            "85072              1505.0                          218.46   \n",
            "85073              1609.0                          218.53   \n",
            "\n",
            "       people_vaccinated_per_hundred  people_fully_vaccinated_per_hundred  \\\n",
            "0                               0.00                                  NaN   \n",
            "1                                NaN                                  NaN   \n",
            "2                                NaN                                  NaN   \n",
            "3                                NaN                                  NaN   \n",
            "4                                NaN                                  NaN   \n",
            "...                              ...                                  ...   \n",
            "85069                          79.71                                75.64   \n",
            "85070                          79.72                                75.65   \n",
            "85071                          79.72                                75.66   \n",
            "85072                          79.75                                75.67   \n",
            "85073                          79.77                                75.69   \n",
            "\n",
            "       daily_vaccinations_per_million  \\\n",
            "0                                 NaN   \n",
            "1                                34.0   \n",
            "2                                34.0   \n",
            "3                                34.0   \n",
            "4                                34.0   \n",
            "...                               ...   \n",
            "85069                           538.0   \n",
            "85070                           526.0   \n",
            "85071                           479.0   \n",
            "85072                           475.0   \n",
            "85073                           508.0   \n",
            "\n",
            "                                                vaccines  \\\n",
            "0      Johnson&Johnson, Oxford/AstraZeneca, Pfizer/Bi...   \n",
            "1      Johnson&Johnson, Oxford/AstraZeneca, Pfizer/Bi...   \n",
            "2      Johnson&Johnson, Oxford/AstraZeneca, Pfizer/Bi...   \n",
            "3      Johnson&Johnson, Oxford/AstraZeneca, Pfizer/Bi...   \n",
            "4      Johnson&Johnson, Oxford/AstraZeneca, Pfizer/Bi...   \n",
            "...                                                  ...   \n",
            "85069       Moderna, Oxford/AstraZeneca, Pfizer/BioNTech   \n",
            "85070       Moderna, Oxford/AstraZeneca, Pfizer/BioNTech   \n",
            "85071       Moderna, Oxford/AstraZeneca, Pfizer/BioNTech   \n",
            "85072       Moderna, Oxford/AstraZeneca, Pfizer/BioNTech   \n",
            "85073       Moderna, Oxford/AstraZeneca, Pfizer/BioNTech   \n",
            "\n",
            "                            source_name  \\\n",
            "0             World Health Organization   \n",
            "1             World Health Organization   \n",
            "2             World Health Organization   \n",
            "3             World Health Organization   \n",
            "4             World Health Organization   \n",
            "...                                 ...   \n",
            "85069  Government of the United Kingdom   \n",
            "85070  Government of the United Kingdom   \n",
            "85071  Government of the United Kingdom   \n",
            "85072  Government of the United Kingdom   \n",
            "85073  Government of the United Kingdom   \n",
            "\n",
            "                                          source_website  diferencias  canVac  \n",
            "0                               https://covid19.who.int/          NaN       4  \n",
            "1                               https://covid19.who.int/          NaN       4  \n",
            "2                               https://covid19.who.int/          NaN       4  \n",
            "3                               https://covid19.who.int/          NaN       4  \n",
            "4                               https://covid19.who.int/          NaN       4  \n",
            "...                                                  ...          ...     ...  \n",
            "85069  https://coronavirus.data.gov.uk/details/vaccin...        -51.0       3  \n",
            "85070  https://coronavirus.data.gov.uk/details/vaccin...       -436.0       3  \n",
            "85071  https://coronavirus.data.gov.uk/details/vaccin...       1111.0       3  \n",
            "85072  https://coronavirus.data.gov.uk/details/vaccin...         28.0       3  \n",
            "85073  https://coronavirus.data.gov.uk/details/vaccin...       -645.0       3  \n",
            "\n",
            "[64193 rows x 17 columns]\n"
          ]
        }
      ]
    },
    {
      "cell_type": "markdown",
      "source": [
        "l. Almacenar los dataframes generados (conDiferencias, conCantidad, antes20 y pfizer) en un archivo de Excel denominado resultadosReto.xlsx, donde cada dataframe ocupe una hoja diferente. Se recomienda ver la documentación de pd.ExcelWriter."
      ],
      "metadata": {
        "id": "XvfHjy3rYJiw"
      }
    },
    {
      "cell_type": "code",
      "source": [
        "with pd.ExcelWriter('resultadosReto.xlsx') as writer:\n",
        "    conDiferencias.to_excel(writer, sheet_name='conDiferencias', index=False)\n",
        "    conCantidad.to_excel(writer, sheet_name='conCantidad', index=False)\n",
        "    antes20.to_excel(writer, sheet_name='antes20', index=False)\n",
        "    pfizer.to_excel(writer, sheet_name='pfizer', index=False)"
      ],
      "metadata": {
        "id": "9gffGP10YLxD"
      },
      "execution_count": 43,
      "outputs": []
    }
  ]
}